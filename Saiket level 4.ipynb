{
 "cells": [
  {
   "cell_type": "code",
   "execution_count": 13,
   "id": "6ca5438c-79a4-4fd2-8ae1-0de2532055fb",
   "metadata": {},
   "outputs": [],
   "source": [
    "# import necessary libraries\n",
    "from sklearn.model_selection import train_test_split\n",
    "from sklearn.metrics import accuracy_score, classification_report\n",
    "from sklearn.model_selection import train_test_split\n",
    "import pandas as pd\n",
    "from sklearn.linear_model import LogisticRegression\n",
    "from sklearn.preprocessing import LabelEncoder\n",
    "df=pd.read_csv('Telco_Customer_Churn_Dataset  (1).csv') # load the dataset"
   ]
  },
  {
   "cell_type": "code",
   "execution_count": 23,
   "id": "f0ea87d6-d25d-4d7f-9b93-e6785037c271",
   "metadata": {},
   "outputs": [
    {
     "name": "stdout",
     "output_type": "stream",
     "text": [
      "      gender  SeniorCitizen Partner Dependents  tenure PhoneService  \\\n",
      "0     Female              0     Yes         No       1           No   \n",
      "1       Male              0      No         No      34          Yes   \n",
      "2       Male              0      No         No       2          Yes   \n",
      "3       Male              0      No         No      45           No   \n",
      "4     Female              0      No         No       2          Yes   \n",
      "...      ...            ...     ...        ...     ...          ...   \n",
      "7038    Male              0     Yes        Yes      24          Yes   \n",
      "7039  Female              0     Yes        Yes      72          Yes   \n",
      "7040  Female              0     Yes        Yes      11           No   \n",
      "7041    Male              1     Yes         No       4          Yes   \n",
      "7042    Male              0      No         No      66          Yes   \n",
      "\n",
      "         MultipleLines InternetService OnlineSecurity OnlineBackup  \\\n",
      "0     No phone service             DSL             No          Yes   \n",
      "1                   No             DSL            Yes           No   \n",
      "2                   No             DSL            Yes          Yes   \n",
      "3     No phone service             DSL            Yes           No   \n",
      "4                   No     Fiber optic             No           No   \n",
      "...                ...             ...            ...          ...   \n",
      "7038               Yes             DSL            Yes           No   \n",
      "7039               Yes     Fiber optic             No          Yes   \n",
      "7040  No phone service             DSL            Yes           No   \n",
      "7041               Yes     Fiber optic             No           No   \n",
      "7042                No     Fiber optic            Yes           No   \n",
      "\n",
      "     DeviceProtection TechSupport StreamingTV StreamingMovies        Contract  \\\n",
      "0                  No          No          No              No  Month-to-month   \n",
      "1                 Yes          No          No              No        One year   \n",
      "2                  No          No          No              No  Month-to-month   \n",
      "3                 Yes         Yes          No              No        One year   \n",
      "4                  No          No          No              No  Month-to-month   \n",
      "...               ...         ...         ...             ...             ...   \n",
      "7038              Yes         Yes         Yes             Yes        One year   \n",
      "7039              Yes          No         Yes             Yes        One year   \n",
      "7040               No          No          No              No  Month-to-month   \n",
      "7041               No          No          No              No  Month-to-month   \n",
      "7042              Yes         Yes         Yes             Yes        Two year   \n",
      "\n",
      "     PaperlessBilling              PaymentMethod  MonthlyCharges TotalCharges  \n",
      "0                 Yes           Electronic check           29.85        29.85  \n",
      "1                  No               Mailed check           56.95       1889.5  \n",
      "2                 Yes               Mailed check           53.85       108.15  \n",
      "3                  No  Bank transfer (automatic)           42.30      1840.75  \n",
      "4                 Yes           Electronic check           70.70       151.65  \n",
      "...               ...                        ...             ...          ...  \n",
      "7038              Yes               Mailed check           84.80       1990.5  \n",
      "7039              Yes    Credit card (automatic)          103.20       7362.9  \n",
      "7040              Yes           Electronic check           29.60       346.45  \n",
      "7041              Yes               Mailed check           74.40        306.6  \n",
      "7042              Yes  Bank transfer (automatic)          105.65       6844.5  \n",
      "\n",
      "[7043 rows x 19 columns]       Churn\n",
      "0       0.0\n",
      "1       0.0\n",
      "2       1.0\n",
      "3       0.0\n",
      "4       1.0\n",
      "...     ...\n",
      "7038    0.0\n",
      "7039    0.0\n",
      "7040    0.0\n",
      "7041    1.0\n",
      "7042    0.0\n",
      "\n",
      "[7043 rows x 1 columns]\n"
     ]
    }
   ],
   "source": [
    "import warnings\n",
    "# Ignore FutureWarnings to keep output clean\n",
    "warnings.simplefilter(action='ignore', category=FutureWarning)\n",
    "# Prepare features (X) and target (y)\n",
    "X = df.iloc[:, :-1].drop('customerID', axis=1)  # Drop 'customerID' from features\n",
    "df['Churn'] = df['Churn'].replace({'Yes': 1, 'No': 0})  # Encode target as numeric\n",
    "y = df.iloc[:, -1:].astype(float)  # Convert target to 1D float array\n",
    "print(X, y)  # Display processed features and target"
   ]
  },
  {
   "cell_type": "code",
   "execution_count": 17,
   "id": "97497014-bcce-44c4-9e78-2c9ceceb6eaf",
   "metadata": {},
   "outputs": [],
   "source": [
    "lb=LabelEncoder()\n",
    "for col in X.select_dtypes(include='object'):\n",
    "        X[col]=lb.fit_transform(X[col]) # label encoding for binary columns\n",
    "# split the dataset into training and testing sets\n",
    "X_train, X_test, y_train, y_test = train_test_split(\n",
    "    X, y, test_size=0.2, random_state=42)  # 80% training and 20% testing"
   ]
  },
  {
   "cell_type": "code",
   "execution_count": 19,
   "id": "fc603c05-c21f-4ef7-ad17-be8b7edd2d32",
   "metadata": {},
   "outputs": [
    {
     "name": "stdout",
     "output_type": "stream",
     "text": [
      "Logistic Regression Accuracy: 0.8161816891412349\n"
     ]
    }
   ],
   "source": [
    "# Train a Logistic Regression model\n",
    "clf = LogisticRegression(max_iter=7000)\n",
    "clf.fit(X_train, y_train)\n",
    "# Make predictions on the test set\n",
    "pred = clf.predict(X_test)\n",
    "# Evaluate accuracy\n",
    "accuracy = accuracy_score(y_test, pred)  # Compare predicted vs actual labels to calculate accuracy\n",
    "print(\"Logistic Regression Accuracy:\", accuracy)"
   ]
  },
  {
   "cell_type": "markdown",
   "id": "c2da9ac9-5412-44b9-bbad-68a06eda7337",
   "metadata": {},
   "source": [
    "# Conclusion:\n",
    "# 1- With an accuracy of 81%, Logistic Regression performs well for this classification problem.\n",
    "# 2- The straightforward nature of Logistic Regression and its strong performance make it the best model for this churn prediction problem."
   ]
  },
  {
   "cell_type": "code",
   "execution_count": null,
   "id": "3d21e5b1-83ad-41b6-b702-757d284808db",
   "metadata": {},
   "outputs": [],
   "source": []
  }
 ],
 "metadata": {
  "kernelspec": {
   "display_name": "Python [conda env:base] *",
   "language": "python",
   "name": "conda-base-py"
  },
  "language_info": {
   "codemirror_mode": {
    "name": "ipython",
    "version": 3
   },
   "file_extension": ".py",
   "mimetype": "text/x-python",
   "name": "python",
   "nbconvert_exporter": "python",
   "pygments_lexer": "ipython3",
   "version": "3.12.7"
  }
 },
 "nbformat": 4,
 "nbformat_minor": 5
}
