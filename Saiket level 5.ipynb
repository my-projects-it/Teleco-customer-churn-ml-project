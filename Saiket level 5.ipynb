{
 "cells": [
  {
   "cell_type": "code",
   "execution_count": 4,
   "id": "e417686d-f815-408a-9064-b03a4f39659c",
   "metadata": {},
   "outputs": [
    {
     "name": "stdout",
     "output_type": "stream",
     "text": [
      "Accuracy: 81.62%\n"
     ]
    }
   ],
   "source": [
    "import pandas as pd\n",
    "from sklearn.model_selection import train_test_split\n",
    "from sklearn.linear_model import LogisticRegression\n",
    "from sklearn.metrics import accuracy_score\n",
    "from sklearn.preprocessing import LabelEncoder\n",
    "# Data Preprocessing\n",
    "df=pd.read_csv('Telco_Customer_Churn_Dataset  (1).csv') # load the dataset\n",
    "X = df.drop(columns=['Churn', 'customerID'])  # Features\n",
    "y = df['Churn']  # Target variable\n",
    "# Label Encoding for categorical variables\n",
    "lb = LabelEncoder()\n",
    "for col in X.select_dtypes(include='object'):\n",
    "    X[col] = lb.fit_transform(X[col])\n",
    "# Train-Test Split\n",
    "X_train, X_test, y_train, y_test = train_test_split(X, y, test_size=0.2, random_state=42)\n",
    "# Model Training\n",
    "clf = LogisticRegression(max_iter=5000)\n",
    "clf.fit(X_train, y_train)\n",
    "# Predictions\n",
    "y_pred = clf.predict(X_test)\n",
    "# Model Evaluation\n",
    "accuracy = accuracy_score(y_test, y_pred)\n",
    "print(f'Accuracy: {accuracy * 100:.2f}%')"
   ]
  },
  {
   "cell_type": "markdown",
   "id": "37d60bfc-ca3f-4369-b00c-1592aae0bcb9",
   "metadata": {},
   "source": [
    "# Conclusion:\n",
    "# 1-The Logistic Regression model achieved an accuracy of 81% in predicting customer churn, which indicates that the model is effectively learning the relationship between the features and the target variable.\n",
    "# 2-Based on the solid performance of Logistic Regression, you can use this model in real-world applications to predict churn."
   ]
  }
 ],
 "metadata": {
  "kernelspec": {
   "display_name": "Python [conda env:base] *",
   "language": "python",
   "name": "conda-base-py"
  },
  "language_info": {
   "codemirror_mode": {
    "name": "ipython",
    "version": 3
   },
   "file_extension": ".py",
   "mimetype": "text/x-python",
   "name": "python",
   "nbconvert_exporter": "python",
   "pygments_lexer": "ipython3",
   "version": "3.12.7"
  }
 },
 "nbformat": 4,
 "nbformat_minor": 5
}
